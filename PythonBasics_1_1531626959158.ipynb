{
  "nbformat": 4,
  "nbformat_minor": 0,
  "metadata": {
    "kernelspec": {
      "display_name": "Python 3",
      "language": "python",
      "name": "python3"
    },
    "language_info": {
      "codemirror_mode": {
        "name": "ipython",
        "version": 3
      },
      "file_extension": ".py",
      "mimetype": "text/x-python",
      "name": "python",
      "nbconvert_exporter": "python",
      "pygments_lexer": "ipython3",
      "version": "3.6.0"
    },
    "colab": {
      "name": "PythonBasics_1-1531626959158.ipynb",
      "version": "0.3.2",
      "provenance": [],
      "include_colab_link": true
    }
  },
  "cells": [
    {
      "cell_type": "markdown",
      "metadata": {
        "id": "view-in-github",
        "colab_type": "text"
      },
      "source": [
        "<a href=\"https://colab.research.google.com/github/sowmyasubhi/Practice/blob/master/PythonBasics_1_1531626959158.ipynb\" target=\"_parent\"><img src=\"https://colab.research.google.com/assets/colab-badge.svg\" alt=\"Open In Colab\"/></a>"
      ]
    },
    {
      "cell_type": "markdown",
      "metadata": {
        "id": "8Ni6z4Aa5u3f",
        "colab_type": "text"
      },
      "source": [
        "# <center>Python Basics<center/> \n",
        "<img height=\"60\" width=\"120\" src=\"https://www.python.org/static/img/python-logo-large.png?1414305901\"></img>"
      ]
    },
    {
      "cell_type": "markdown",
      "metadata": {
        "id": "Xv4xl_b65u3l",
        "colab_type": "text"
      },
      "source": [
        "<b>Welcome</b> to Python tutorial. For your benefit we have broken down the entire tutorial into multiple parts so that you can take it step by step. Please learn Python in the sequence of the notebooks and topic wise as per the Table Of Contents.\n",
        "\n",
        "Wish you a Happy Learning!\n",
        "<br/>\n",
        "<br/>\n",
        "<br/>\n",
        "<br/>"
      ]
    },
    {
      "cell_type": "markdown",
      "metadata": {
        "id": "fujj9NhG5u3p",
        "colab_type": "text"
      },
      "source": [
        "# Table of contents\n",
        "<br/>\n",
        "<a href = \"#1.-Python-Keywords\">1. Python Keywords</a>\n",
        "\n",
        "<a href = \"#2.-Identifiers\">2. Identifiers</a>\n",
        "\n",
        "<a href = \"#3.-Comments-in-Python\">3. Comments in Python</a>\n",
        "\n",
        "<a href = \"#4.-Python-Indentation\">4. Python Indentation</a>\n",
        "\n",
        "<a href = \"#5.-Python-Statement\">5. Python Statement</a>"
      ]
    },
    {
      "cell_type": "markdown",
      "metadata": {
        "id": "SctRdapE5u3s",
        "colab_type": "text"
      },
      "source": [
        "# 1. Python Keywords"
      ]
    },
    {
      "cell_type": "markdown",
      "metadata": {
        "id": "Un2qjq2T5u3w",
        "colab_type": "text"
      },
      "source": [
        "Keywords in Python are reservered words that cannot be used as ordinary\n",
        "identifiers.<p/>\n",
        "They must be spelled exacty as they are written. <p/>\n",
        "The 33 keywords in Python 3.6 are:<p/>"
      ]
    },
    {
      "cell_type": "markdown",
      "metadata": {
        "id": "AQg4w0bK5u3z",
        "colab_type": "text"
      },
      "source": [
        "<table width='100%'>\n",
        "<tr><th>and</tc><th>del</tc><th>from</tc><th>not</tc><th>while</tc></tr>\n",
        "<tr><th>as</tc><th> elif</tc><th>global</tc><th>or</tc><th> with</tc></tr>\n",
        "<tr><th>assert</tc><th>else</tc><th>if</tc><th> pass</tc><th>yield</tc></tr>\n",
        "<tr><th>break</tc><th> except</tc><th>import</tc><th>print</tc></tr>\n",
        "<tr><th>class</tc><th> exec</tc><th>in</tc><th> raise</tc></tr>\n",
        "<tr><th>continue</tc><th>finally</tc><th> is</tc><th> return </tc></tr>\n",
        "<tr><th>def</tc><th>for</tc><th>lambda</tc><th>try</tc></tr>\n",
        "</table>"
      ]
    },
    {
      "cell_type": "code",
      "metadata": {
        "id": "1kV5seHQ5u32",
        "colab_type": "code",
        "outputId": "42ac4582-0736-4567-95e6-ed2e101634b1",
        "colab": {
          "base_uri": "https://localhost:8080/",
          "height": 54
        }
      },
      "source": [
        "#To extract all keywords in python 3.6 use the below code\n",
        "\n",
        "import keyword\n",
        "\n",
        "print(keyword.kwlist)"
      ],
      "execution_count": 0,
      "outputs": [
        {
          "output_type": "stream",
          "text": [
            "['False', 'None', 'True', 'and', 'as', 'assert', 'break', 'class', 'continue', 'def', 'del', 'elif', 'else', 'except', 'finally', 'for', 'from', 'global', 'if', 'import', 'in', 'is', 'lambda', 'nonlocal', 'not', 'or', 'pass', 'raise', 'return', 'try', 'while', 'with', 'yield']\n"
          ],
          "name": "stdout"
        }
      ]
    },
    {
      "cell_type": "code",
      "metadata": {
        "id": "bbNmdA8a5u4L",
        "colab_type": "code",
        "outputId": "d4b1772c-2670-43bc-a50b-c90ff1f1cb84",
        "colab": {
          "base_uri": "https://localhost:8080/",
          "height": 34
        }
      },
      "source": [
        "# Number of keywords are \n",
        "print(\"keywords in python 3.6 are:\", len(keyword.kwlist))"
      ],
      "execution_count": 0,
      "outputs": [
        {
          "output_type": "stream",
          "text": [
            "keywords in python 3.6 are: 33\n"
          ],
          "name": "stdout"
        }
      ]
    },
    {
      "cell_type": "markdown",
      "metadata": {
        "collapsed": true,
        "id": "7SKb0Duu5u4X",
        "colab_type": "text"
      },
      "source": [
        "# 2. Identifiers"
      ]
    },
    {
      "cell_type": "markdown",
      "metadata": {
        "id": "03PxpEcv5u4a",
        "colab_type": "text"
      },
      "source": [
        "Identifiers (also referred to as names) is given to entities like class, functions, variables etc. in Python. It helps differentiating one entity from another."
      ]
    },
    {
      "cell_type": "markdown",
      "metadata": {
        "id": "VtH3HVA25u4d",
        "colab_type": "text"
      },
      "source": [
        "Rules for Writing Identifiers:\n",
        "\n",
        "1. Identifiers can be a combination of letters in lowercase (a to z) or uppercase (A to Z) or digits (0 to 9) or an underscore (_).\n",
        "\n",
        "2. An identifier cannot start with a digit. <i>'99somename'</i> is invalid, but <i>'somename99'</i> is perfectly fine.\n",
        "\n",
        "3. Keywords cannot be used as identifiers."
      ]
    },
    {
      "cell_type": "code",
      "metadata": {
        "id": "pCu9eFjM5u4g",
        "colab_type": "code",
        "outputId": "c331ecc0-d8de-4a75-d8ac-1963473a7147",
        "colab": {}
      },
      "source": [
        "99somename = 100      # Wrong way of defining identifiers"
      ],
      "execution_count": 0,
      "outputs": [
        {
          "output_type": "error",
          "ename": "SyntaxError",
          "evalue": "invalid syntax (<ipython-input-13-e6c9f7eda5aa>, line 1)",
          "traceback": [
            "\u001b[0;36m  File \u001b[0;32m\"<ipython-input-13-e6c9f7eda5aa>\"\u001b[0;36m, line \u001b[0;32m1\u001b[0m\n\u001b[0;31m    99somename = 100\u001b[0m\n\u001b[0m             ^\u001b[0m\n\u001b[0;31mSyntaxError\u001b[0m\u001b[0;31m:\u001b[0m invalid syntax\n"
          ]
        }
      ]
    },
    {
      "cell_type": "code",
      "metadata": {
        "id": "jbpPhRR25u4r",
        "colab_type": "code",
        "outputId": "c9a088c4-b6c3-43d6-d449-a99d1f7e7d80",
        "colab": {}
      },
      "source": [
        "somename99 = 100      # Right way of defining identifiers\n",
        "print(somename99)"
      ],
      "execution_count": 0,
      "outputs": [
        {
          "output_type": "stream",
          "text": [
            "100\n"
          ],
          "name": "stdout"
        }
      ]
    },
    {
      "cell_type": "code",
      "metadata": {
        "id": "UYAYagDd5u42",
        "colab_type": "code",
        "outputId": "24d5840a-336e-4bdb-db50-9d01832fb3db",
        "colab": {}
      },
      "source": [
        "break = 1             # Cannot use keyword as identifiers"
      ],
      "execution_count": 0,
      "outputs": [
        {
          "output_type": "error",
          "ename": "SyntaxError",
          "evalue": "invalid syntax (<ipython-input-9-0a0e97cd82d8>, line 1)",
          "traceback": [
            "\u001b[0;36m  File \u001b[0;32m\"<ipython-input-9-0a0e97cd82d8>\"\u001b[0;36m, line \u001b[0;32m1\u001b[0m\n\u001b[0;31m    break = 1\u001b[0m\n\u001b[0m          ^\u001b[0m\n\u001b[0;31mSyntaxError\u001b[0m\u001b[0;31m:\u001b[0m invalid syntax\n"
          ]
        }
      ]
    },
    {
      "cell_type": "markdown",
      "metadata": {
        "id": "qvRWVXKH5u5B",
        "colab_type": "text"
      },
      "source": [
        " We cannot use special symbols like !, @, #, $, % etc. in our identifier."
      ]
    },
    {
      "cell_type": "code",
      "metadata": {
        "id": "-k7Mm6eJ5u5E",
        "colab_type": "code",
        "outputId": "586f02f0-a6c3-4e82-8b6f-7d05bedeab9d",
        "colab": {}
      },
      "source": [
        "hello@ = 10           #can't use special symbols as an identifier"
      ],
      "execution_count": 0,
      "outputs": [
        {
          "output_type": "error",
          "ename": "SyntaxError",
          "evalue": "invalid syntax (<ipython-input-10-74122af75f83>, line 1)",
          "traceback": [
            "\u001b[0;36m  File \u001b[0;32m\"<ipython-input-10-74122af75f83>\"\u001b[0;36m, line \u001b[0;32m1\u001b[0m\n\u001b[0;31m    hello@ = 10             #can't use special symbols as an identifier\u001b[0m\n\u001b[0m           ^\u001b[0m\n\u001b[0;31mSyntaxError\u001b[0m\u001b[0;31m:\u001b[0m invalid syntax\n"
          ]
        }
      ]
    },
    {
      "cell_type": "markdown",
      "metadata": {
        "id": "bLDUd8Ui5u5S",
        "colab_type": "text"
      },
      "source": [
        "### Few more correct identifiers"
      ]
    },
    {
      "cell_type": "code",
      "metadata": {
        "id": "iVv9SnIt5u5V",
        "colab_type": "code",
        "outputId": "f77e5f4b-1ae9-46ef-8b28-7f7787cb1a51",
        "colab": {}
      },
      "source": [
        "hello = 1\n",
        "print('hello: ',hello)\n",
        "\n",
        "hello123 = 1\n",
        "print('hello123: ',hello123)\n",
        "\n",
        "hello_1 = 1\n",
        "print('hello_1: ',hello_1)"
      ],
      "execution_count": 0,
      "outputs": [
        {
          "output_type": "stream",
          "text": [
            "hello:  1\n",
            "hello123:  1\n",
            "hello_1:  1\n"
          ],
          "name": "stdout"
        }
      ]
    },
    {
      "cell_type": "markdown",
      "metadata": {
        "id": "8jdWUe6S5u5h",
        "colab_type": "text"
      },
      "source": [
        "# 3. Comments in Python"
      ]
    },
    {
      "cell_type": "markdown",
      "metadata": {
        "id": "DBbAkWHz5u5k",
        "colab_type": "text"
      },
      "source": [
        "A comment may appear at the start of a line or following whitespace or code, but not within a string literal.<br/>\n",
        "A hash character within a string literal is just a hash character.<br/>\n",
        "Comments are lines that are ignored by compilers and interpreters. <br/>\n",
        "### This is one of the best way to convey the idea behind the code and people reusing your code can easily make sense of your code"
      ]
    },
    {
      "cell_type": "markdown",
      "metadata": {
        "id": "QdZ-ArCG5u5o",
        "colab_type": "text"
      },
      "source": [
        "### Single line comment"
      ]
    },
    {
      "cell_type": "code",
      "metadata": {
        "id": "df6j2Ox15u5r",
        "colab_type": "code",
        "colab": {}
      },
      "source": [
        "# This is a single line comment. Has no effect on the code below\n",
        "abd = 10"
      ],
      "execution_count": 0,
      "outputs": []
    },
    {
      "cell_type": "markdown",
      "metadata": {
        "id": "aYa-E2xz5u50",
        "colab_type": "text"
      },
      "source": [
        "### Multi line comment"
      ]
    },
    {
      "cell_type": "code",
      "metadata": {
        "id": "EMiBUr7m5u53",
        "colab_type": "code",
        "colab": {}
      },
      "source": [
        "# You can write multiple lines of comment by putting a '#' at the beginning\n",
        "# You can write multiple lines of comment by putting a '#' at the beginning\n",
        "# You can write multiple lines of comment by putting a '#' at the beginning"
      ],
      "execution_count": 0,
      "outputs": []
    },
    {
      "cell_type": "code",
      "metadata": {
        "id": "IJtdl6185u6D",
        "colab_type": "code",
        "colab": {}
      },
      "source": [
        "'''\n",
        "A better option to write multi line comment is by adding all your \n",
        "text between a set of 3-single or 3-double quotes. Like we have done here\n",
        "'''"
      ],
      "execution_count": 0,
      "outputs": []
    },
    {
      "cell_type": "code",
      "metadata": {
        "id": "VQ9E9eL_5u6L",
        "colab_type": "code",
        "outputId": "b809aa14-0081-4d4f-a365-32cd522483fc",
        "colab": {}
      },
      "source": [
        "\"\"\"\n",
        "A better option to write multi line comment is by adding all your \n",
        "text between a set of 3-single or 3-double quotes. Like we have done here\n",
        "\"\"\""
      ],
      "execution_count": 0,
      "outputs": [
        {
          "output_type": "execute_result",
          "data": {
            "text/plain": [
              "'\\nA better option to write multi line comment is by adding all your \\ntext between a set of 3-single or 3-double quotes. Like we have done here\\n'"
            ]
          },
          "metadata": {
            "tags": []
          },
          "execution_count": 25
        }
      ]
    },
    {
      "cell_type": "markdown",
      "metadata": {
        "id": "tDFdFL6O5u6z",
        "colab_type": "text"
      },
      "source": [
        "### Docstring"
      ]
    },
    {
      "cell_type": "markdown",
      "metadata": {
        "id": "dL0bb47Q5u61",
        "colab_type": "text"
      },
      "source": [
        "Docstring is short for documentation string.<p/>\n",
        "\n",
        "String that occurs as the first statement in a module, function, class, <br/>\n",
        "or method definition. Used to define what a function/class does."
      ]
    },
    {
      "cell_type": "code",
      "metadata": {
        "id": "vuyWHsv85u64",
        "colab_type": "code",
        "outputId": "8f615dcf-8020-4f03-df46-4bd59c31721d",
        "colab": {}
      },
      "source": [
        "def square(num):\n",
        "    \"\"\"\n",
        "    Function to square a number. \n",
        "    Print this docstring using __doc__ attribute of the function\n",
        "    \"\"\"\n",
        "    return num * num\n",
        "\n",
        "print(square(20))"
      ],
      "execution_count": 0,
      "outputs": [
        {
          "output_type": "stream",
          "text": [
            "400\n"
          ],
          "name": "stdout"
        }
      ]
    },
    {
      "cell_type": "code",
      "metadata": {
        "id": "1uorF6o95u7N",
        "colab_type": "code",
        "outputId": "798d6071-c4d6-4a25-c194-3855364f4c9e",
        "colab": {}
      },
      "source": [
        "print(square.__doc__)      # To print the docstring of a function use the __doc__ attribute of the function"
      ],
      "execution_count": 0,
      "outputs": [
        {
          "output_type": "stream",
          "text": [
            "\n",
            "    Function to square a number. \n",
            "    Print this docstring using __doc__ attribute of the function\n",
            "    \n"
          ],
          "name": "stdout"
        }
      ]
    },
    {
      "cell_type": "code",
      "metadata": {
        "id": "xzmEMgt95u7d",
        "colab_type": "code",
        "colab": {}
      },
      "source": [
        "square                     # Press shift+tab to view the docstring"
      ],
      "execution_count": 0,
      "outputs": []
    },
    {
      "cell_type": "markdown",
      "metadata": {
        "id": "O-RHIdOi5u7v",
        "colab_type": "text"
      },
      "source": [
        "# 4. Python Indentation"
      ]
    },
    {
      "cell_type": "markdown",
      "metadata": {
        "id": "rUtfdTL_5u71",
        "colab_type": "text"
      },
      "source": [
        "Unlike C, C++, Java where we use braces { } to define a block of code, in Python we use indentation.\n",
        "\n",
        "A code block (body of a function, loop etc.) starts with indentation and ends with the first unindented line. The amount of indentation is up to you, but it must be consistent throughout that block.\n",
        "\n",
        "Generally four whitespaces are used for indentation and is preferred over tabs.\n",
        "\n",
        "Leading whitespace (spaces and tabs) at the beginning of a logical line is used to compute the indentation level of the line, <b>which in turn is used to determine the grouping of statements</b>."
      ]
    },
    {
      "cell_type": "code",
      "metadata": {
        "id": "GCqCbV7K5u74",
        "colab_type": "code",
        "outputId": "266f4a0b-7c0f-41b2-f4f7-66caf041e3f0",
        "colab": {}
      },
      "source": [
        "variable1 = 10\n",
        "  variable2 = 20          # Logical continuation disrupted"
      ],
      "execution_count": 0,
      "outputs": [
        {
          "output_type": "error",
          "ename": "IndentationError",
          "evalue": "unexpected indent (<ipython-input-39-de16c44c4389>, line 2)",
          "traceback": [
            "\u001b[0;36m  File \u001b[0;32m\"<ipython-input-39-de16c44c4389>\"\u001b[0;36m, line \u001b[0;32m2\u001b[0m\n\u001b[0;31m    variable2 = 20 # Logical continuation disrupted\u001b[0m\n\u001b[0m    ^\u001b[0m\n\u001b[0;31mIndentationError\u001b[0m\u001b[0;31m:\u001b[0m unexpected indent\n"
          ]
        }
      ]
    },
    {
      "cell_type": "code",
      "metadata": {
        "id": "kTgOwwkC5u8F",
        "colab_type": "code",
        "colab": {}
      },
      "source": [
        "variable1 = 10\n",
        "variable2 = 20"
      ],
      "execution_count": 0,
      "outputs": []
    },
    {
      "cell_type": "code",
      "metadata": {
        "id": "QCzJucAP5u8O",
        "colab_type": "code",
        "outputId": "8d5c8f4b-7905-46e8-9730-d09565075396",
        "colab": {}
      },
      "source": [
        "for i in range (1,4):\n",
        "    print(i)              # Logical continuation maintained"
      ],
      "execution_count": 0,
      "outputs": [
        {
          "output_type": "stream",
          "text": [
            "1\n",
            "2\n",
            "3\n"
          ],
          "name": "stdout"
        }
      ]
    },
    {
      "cell_type": "markdown",
      "metadata": {
        "id": "LrN7CySm5u8a",
        "colab_type": "text"
      },
      "source": [
        "### Indentation is a good way to keep the code readable"
      ]
    },
    {
      "cell_type": "code",
      "metadata": {
        "id": "DLZoe9pB5u8d",
        "colab_type": "code",
        "outputId": "b314130c-30da-4494-8b15-c12cdb1a4114",
        "colab": {}
      },
      "source": [
        "variable1=10;variable2=20                   # Everything could be in one line but less readable. Multiple statement in one line\n",
        "\n",
        "for i in range (1,4): print(i)              # Everything could be in one line but less readable"
      ],
      "execution_count": 0,
      "outputs": [
        {
          "output_type": "stream",
          "text": [
            "1\n",
            "2\n",
            "3\n"
          ],
          "name": "stdout"
        }
      ]
    },
    {
      "cell_type": "markdown",
      "metadata": {
        "id": "wXXHh2OU5u8n",
        "colab_type": "text"
      },
      "source": [
        "# 5. Python Statement"
      ]
    },
    {
      "cell_type": "markdown",
      "metadata": {
        "id": "SrGsyxAI5u8q",
        "colab_type": "text"
      },
      "source": [
        "Instructions that a Python interpreter can execute are called statements. For example, a = 1 is an assignment statement. if statement, for statement, while statement etc. are other kinds of statements which will be discussed later."
      ]
    },
    {
      "cell_type": "markdown",
      "metadata": {
        "id": "jDpRELzT5u8t",
        "colab_type": "text"
      },
      "source": [
        "### Single-line statement"
      ]
    },
    {
      "cell_type": "code",
      "metadata": {
        "id": "-hflhpkC5u8v",
        "colab_type": "code",
        "colab": {}
      },
      "source": [
        "number = 10"
      ],
      "execution_count": 0,
      "outputs": []
    },
    {
      "cell_type": "markdown",
      "metadata": {
        "id": "KZfhu8B35u87",
        "colab_type": "text"
      },
      "source": [
        "### Multi-line statement \n",
        "(Use a continuation character '\\')"
      ]
    },
    {
      "cell_type": "code",
      "metadata": {
        "id": "eqCQrFF85u8-",
        "colab_type": "code",
        "outputId": "7ce4b8b8-bd56-4568-8c29-da386deb7cdd",
        "colab": {}
      },
      "source": [
        "number = 10 + 20 + \\\n",
        "         30 + 40 + \\\n",
        "         50\n",
        "    \n",
        "print(number)"
      ],
      "execution_count": 0,
      "outputs": [
        {
          "output_type": "stream",
          "text": [
            "150\n"
          ],
          "name": "stdout"
        }
      ]
    },
    {
      "cell_type": "markdown",
      "metadata": {
        "id": "2yBVMNq55u9I",
        "colab_type": "text"
      },
      "source": [
        "(Alternately use brackets)"
      ]
    },
    {
      "cell_type": "code",
      "metadata": {
        "id": "o8XhkroI5u9L",
        "colab_type": "code",
        "outputId": "cd2e375d-5906-4360-d1cc-44a0cf085315",
        "colab": {}
      },
      "source": [
        "number = (10 + 20 + \n",
        "         30 + 40 + \n",
        "         50)\n",
        "    \n",
        "print(number)"
      ],
      "execution_count": 0,
      "outputs": [
        {
          "output_type": "stream",
          "text": [
            "150\n"
          ],
          "name": "stdout"
        }
      ]
    }
  ]
}